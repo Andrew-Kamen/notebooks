{
 "cells": [
  {
   "cell_type": "markdown",
   "metadata": {},
   "source": [
    "# Fidelity and First Order Conditions"
   ]
  },
  {
   "cell_type": "markdown",
   "metadata": {},
   "source": [
    "#### Imports"
   ]
  },
  {
   "cell_type": "code",
   "execution_count": 1,
   "metadata": {},
   "outputs": [
    {
     "name": "stderr",
     "output_type": "stream",
     "text": [
      "\u001b[32m\u001b[1m  Activating\u001b[22m\u001b[39m project at `~/Documents/research/pulses/project/notebooks/src`\n",
      "\u001b[32m\u001b[1m   Resolving\u001b[22m\u001b[39m package versions...\n",
      "\u001b[32m\u001b[1m  No Changes\u001b[22m\u001b[39m to `~/Documents/research/pulses/project/notebooks/src/Project.toml`\n",
      "\u001b[32m\u001b[1m  No Changes\u001b[22m\u001b[39m to `~/Documents/research/pulses/project/notebooks/src/Manifest.toml`\n"
     ]
    }
   ],
   "source": [
    "using Pkg\n",
    "Pkg.activate(\".\")\n",
    "# Pkg.rm(\"QuantumCollocation\")\n",
    "Pkg.develop(path=\"../../QuantumCollocation.jl\")\n",
    "using Revise\n",
    "using QuantumCollocation\n",
    "using Piccolo"
   ]
  },
  {
   "cell_type": "markdown",
   "metadata": {},
   "source": []
  },
  {
   "cell_type": "markdown",
   "metadata": {},
   "source": [
    "#### Setup"
   ]
  },
  {
   "cell_type": "code",
   "execution_count": 10,
   "metadata": {},
   "outputs": [
    {
     "data": {
      "text/plain": [
       "2×2 Matrix{ComplexF64}:\n",
       " 0.0+0.0im  0.5+0.0im\n",
       " 0.5+0.0im  0.0+0.0im"
      ]
     },
     "metadata": {},
     "output_type": "display_data"
    }
   ],
   "source": [
    "T = 50\n",
    "Δt = 0.2\n",
    "sys = QuantumSystem([PAULIS[:X], PAULIS[:Y]])\n",
    "U_goal = GATES.H\n",
    "Hₑ = 0.5 * PAULIS.X"
   ]
  },
  {
   "cell_type": "markdown",
   "metadata": {},
   "source": [
    "## Custom Objective\n",
    "\n",
    "The cell below runs the verion "
   ]
  },
  {
   "cell_type": "code",
   "execution_count": 13,
   "metadata": {},
   "outputs": [
    {
     "name": "stdout",
     "output_type": "stream",
     "text": [
      "    constructing UnitarySmoothPulseProblem...\n",
      "\tusing integrator: typeof(UnitaryIntegrator)\n",
      "\tcontrol derivative names: [:da, :dda]\n",
      "\tapplying timesteps_all_equal constraint: Δt\n",
      "    initializing optimizer...\n",
      "        applying constraint: timesteps all equal constraint\n",
      "        applying constraint: initial value of Ũ⃗\n",
      "        applying constraint: initial value of a\n",
      "        applying constraint: final value of a\n",
      "        applying constraint: bounds on a\n",
      "        applying constraint: bounds on da\n",
      "        applying constraint: bounds on dda\n",
      "        applying constraint: bounds on Δt\n",
      "This is Ipopt version 3.14.17, running with linear solver MUMPS 5.8.0.\n",
      "\n",
      "Number of nonzeros in equality constraint Jacobian...:     5502\n",
      "Number of nonzeros in inequality constraint Jacobian.:        0\n",
      "Number of nonzeros in Lagrangian Hessian.............:   156403\n",
      "\n",
      "Total number of variables............................:      738\n",
      "                     variables with only lower bounds:        0\n",
      "                variables with lower and upper bounds:      246\n",
      "                     variables with only upper bounds:        0\n",
      "Total number of equality constraints.................:      637\n",
      "Total number of inequality constraints...............:        0\n",
      "        inequality constraints with only lower bounds:        0\n",
      "   inequality constraints with lower and upper bounds:        0\n",
      "        inequality constraints with only upper bounds:        0\n",
      "\n",
      "iter    objective    inf_pr   inf_du lg(mu)  ||d||  lg(rg) alpha_du alpha_pr  ls\n",
      "   0  7.1015792e-03 1.91e+00 5.30e+00  -1.0 0.00e+00    -  0.00e+00 0.00e+00   0\n",
      "   1  5.9850262e+00 2.36e-01 1.04e+03  -1.0 1.20e+00   2.0 1.27e-02 1.00e+00f  1\n",
      "   2  9.8651652e+01 1.84e-02 2.66e+02  -1.0 1.00e+00   2.4 9.21e-01 1.00e+00h  1\n",
      "   3  9.9157939e+01 1.47e-03 1.92e+02  -1.0 2.69e-01   2.9 1.00e+00 1.00e+00h  1\n",
      "   4  9.9142237e+01 4.64e-06 2.84e+00  -1.0 1.22e-02   2.4 1.00e+00 1.00e+00h  1\n",
      "   5  9.8983462e+01 1.81e-05 6.93e-01  -1.0 8.95e-03   1.9 1.00e+00 1.00e+00f  1\n",
      "   6  9.8212926e+01 7.63e-05 1.92e+00  -1.7 3.86e-02   1.4 1.00e+00 1.00e+00f  1\n",
      "   7  9.7861531e+01 1.23e-05 1.05e+00  -1.7 1.52e-02   1.8 1.00e+00 1.00e+00f  1\n",
      "   8  9.5825995e+01 2.75e-04 3.45e+00  -1.7 6.86e-02   1.4 1.00e+00 1.00e+00f  1\n",
      "   9  9.4876810e+01 4.62e-05 1.69e+00  -1.7 2.77e-02   1.8 1.00e+00 1.00e+00f  1\n",
      "iter    objective    inf_pr   inf_du lg(mu)  ||d||  lg(rg) alpha_du alpha_pr  ls\n",
      "  10  8.8796937e+01 1.25e-03 6.61e+00  -1.7 1.30e-01   1.3 1.00e+00 1.00e+00f  1\n",
      "  11  8.5984811e+01 2.16e-04 2.79e+00  -1.7 5.16e-02   1.7 1.00e+00 1.00e+00f  1\n",
      "  12  6.6766541e+01 6.98e-03 1.25e+01  -1.7 2.44e-01   1.3 1.00e+00 1.00e+00f  1\n",
      "  13  5.8459561e+01 7.76e-04 7.68e+00  -1.7 1.03e-01   1.7 1.00e+00 1.00e+00f  1\n",
      "  14  1.3111417e+01 1.72e-02 1.44e+01  -1.7 2.92e-01   1.2 1.00e+00 1.00e+00f  1\n",
      "  15  1.5045986e+01 9.08e-04 8.72e+00  -1.7 1.27e-01   1.6 1.00e+00 1.00e+00h  1\n",
      "  16  4.0768968e+00 1.92e-03 4.84e+00  -1.7 1.22e-01   1.2 1.00e+00 1.00e+00f  1\n",
      "  17  1.6195238e+00 2.06e-03 1.46e+02  -1.7 1.16e-01   0.7 1.00e+00 1.00e+00f  1\n",
      "  18  3.3493561e+00 5.36e-04 1.38e+02  -1.7 1.30e-01   0.2 1.00e+00 1.00e+00H  1\n",
      "  19  4.2820867e-01 6.70e-04 7.90e+00  -1.7 8.27e-02   1.5 1.00e+00 1.00e+00f  1\n",
      "iter    objective    inf_pr   inf_du lg(mu)  ||d||  lg(rg) alpha_du alpha_pr  ls\n",
      "  20  2.2167865e-01 1.42e-04 1.05e+00  -1.7 3.37e-02   1.1 1.00e+00 1.00e+00f  1\n",
      "  21  8.5702599e-02 9.84e-05 1.42e+02  -1.7 2.78e-02   0.6 1.00e+00 1.00e+00f  1\n",
      "  22  8.4421818e-02 1.03e-04 7.10e+01  -1.7 3.12e-02   0.1 1.00e+00 5.00e-01f  2\n",
      "  23  6.4300767e-02 9.87e-05 8.04e+01  -1.7 1.03e-01  -0.4 1.00e+00 1.25e-01f  4\n",
      "  24  1.8738514e-02 7.60e-05 8.21e+01  -1.7 2.41e-02   1.0 1.00e+00 2.50e-01f  3\n",
      "  25  4.7571672e-03 7.36e-05 7.96e+01  -1.7 5.33e-02   0.5 1.00e+00 3.12e-02h  6\n",
      "  26  9.9468116e-03 7.31e-05 6.36e+01  -1.7 8.59e-02   0.0 1.00e+00 7.81e-03h  8\n",
      "  27  2.6530248e-02 6.41e-05 8.68e+01  -1.7 1.56e-02   1.3 1.00e+00 1.25e-01h  4\n",
      "  28  7.2063928e-03 5.60e-05 6.65e+01  -1.7 2.88e-02   0.9 1.00e+00 1.25e-01h  4\n",
      "  29  2.6032908e-02 4.91e-05 8.42e+01  -1.7 1.62e-02   1.3 1.00e+00 1.25e-01h  4\n",
      "iter    objective    inf_pr   inf_du lg(mu)  ||d||  lg(rg) alpha_du alpha_pr  ls\n",
      "  30  5.7939609e-03 4.29e-05 6.87e+01  -1.7 2.77e-02   0.8 1.00e+00 1.25e-01h  4\n",
      "  31  1.4237080e-02 4.03e-05 7.80e+01  -1.7 1.73e-02   1.2 1.00e+00 6.25e-02h  5\n",
      "  32  2.5589940e-02 3.01e-05 8.39e+01  -1.7 2.29e-02   0.8 1.00e+00 2.50e-01h  3\n",
      "  33  3.6578376e-02 6.22e-05 6.39e+01  -1.7 2.48e-01   0.3 1.00e+00 6.25e-02f  5\n",
      "  34  3.4172034e-02 6.02e-05 8.68e+01  -1.7 6.09e-02  -0.2 1.00e+00 1.25e-01f  4\n",
      "  35  3.1300873e-02 7.28e-05 5.88e+01  -1.7 2.73e-01   0.2 1.00e+00 3.12e-02f  6\n",
      "  36  3.0486422e-02 6.83e-05 9.16e+01  -1.7 5.27e-02  -0.2 1.00e+00 1.25e-01f  4\n",
      "  37  3.0487525e-02 7.45e-05 5.30e+01  -1.7 4.19e-01  -0.7 1.00e+00 1.56e-02f  7\n",
      "  38  2.8228501e-02 7.17e-05 9.68e+01  -1.7 1.42e-01  -1.2 1.00e+00 1.25e-01f  4\n",
      "  39  2.6390311e-02 7.05e-05 4.95e+01  -1.7 1.68e-01  -0.8 1.00e+00 3.12e-02f  6\n",
      "iter    objective    inf_pr   inf_du lg(mu)  ||d||  lg(rg) alpha_du alpha_pr  ls\n",
      "  40  2.4926696e-02 1.10e-04 9.99e+01  -1.7 1.51e-01  -1.3 1.00e+00 1.25e-01f  4\n",
      "  41  5.3052492e-02 1.03e-04 4.95e+01  -1.7 1.22e-01  -0.8 1.00e+00 6.25e-02h  5\n",
      "  42  1.0847415e-02 2.01e-04 9.99e+01  -1.7 1.93e-01  -1.3 1.00e+00 1.25e-01f  4\n",
      "  43  3.9689771e-02 1.94e-04 4.65e+01  -1.7 1.31e-01  -0.9 1.00e+00 3.12e-02h  6\n",
      "  44  1.3260859e-02 3.32e-04 1.03e+02  -1.7 2.28e-01  -1.4 1.00e+00 1.25e-01f  4\n",
      "  45  1.3165959e-02 3.27e-04 4.24e+01  -1.7 1.66e-01  -0.9 1.00e+00 1.56e-02h  7\n",
      "  46  1.8954079e-02 9.37e-03 1.11e+02  -1.7 8.71e-01  -1.4 1.00e+00 2.50e-01h  3\n",
      "  47  3.2360078e-02 9.35e-03 3.21e+01  -1.7 5.11e-01  -0.1 1.00e+00 1.95e-03h 10\n",
      "  48  2.0205900e-02 9.21e-03 1.12e+02  -1.7 1.15e-01   0.3 1.00e+00 1.56e-02h  7\n",
      "  49  3.3500286e-02 9.19e-03 3.18e+01  -1.7 6.23e-01  -0.1 6.53e-01 1.92e-03h 10\n",
      "iter    objective    inf_pr   inf_du lg(mu)  ||d||  lg(rg) alpha_du alpha_pr  ls\n",
      "  50  2.2461080e-02 9.04e-03 1.12e+02  -1.7 1.19e-01   0.3 1.00e+00 1.56e-02h  7\n",
      "\n",
      "Number of Iterations....: 50\n",
      "\n",
      "                                   (scaled)                 (unscaled)\n",
      "Objective...............:   2.2461079515736036e-02    2.2461079515736036e-02\n",
      "Dual infeasibility......:   1.1192191047079656e+02    1.1192191047079656e+02\n",
      "Constraint violation....:   9.0438543961075604e-03    9.0438543961075604e-03\n",
      "Variable bound violation:   0.0000000000000000e+00    0.0000000000000000e+00\n",
      "Complementarity.........:   2.0898088877459895e-02    2.0898088877459895e-02\n",
      "Overall NLP error.......:   1.1192191047079656e+02    1.1192191047079656e+02\n",
      "\n",
      "\n",
      "Number of objective function evaluations             = 221\n",
      "Number of objective gradient evaluations             = 51\n",
      "Number of equality constraint evaluations            = 221\n",
      "Number of inequality constraint evaluations          = 0\n",
      "Number of equality constraint Jacobian evaluations   = 51\n",
      "Number of inequality constraint Jacobian evaluations = 0\n",
      "Number of Lagrangian Hessian evaluations             = 50\n",
      "Total seconds in IPOPT                               = 365.380\n",
      "\n",
      "EXIT: Maximum Number of Iterations Exceeded.\n"
     ]
    }
   ],
   "source": [
    "# UnitarySmoothPulseProblem incorporates the toggle frame objective\n",
    "prob = UnitarySmoothPulseProblem(\n",
    "            sys, U_goal, T, Δt;\n",
    "            H_err=Hₑ\n",
    "        )\n",
    "\n",
    "solve!(prob, max_iter=50)"
   ]
  },
  {
   "cell_type": "markdown",
   "metadata": {},
   "source": [
    "#### Testing"
   ]
  },
  {
   "cell_type": "code",
   "execution_count": null,
   "metadata": {},
   "outputs": [
    {
     "name": "stdout",
     "output_type": "stream",
     "text": [
      "Fidelity: 0.9865317792098254\n"
     ]
    },
    {
     "data": {
      "text/plain": [
       "(2, 50)"
      ]
     },
     "metadata": {},
     "output_type": "display_data"
    }
   ],
   "source": [
    "Z_vec = vec(prob.trajectory)\n",
    "\n",
    "println(\n",
    "    \"Fidelity: \",\n",
    "    unitary_rollout_fidelity(prob.trajectory, sys)\n",
    ")\n",
    "\n",
    "prob.trajectory.a |> size\n",
    "\n",
    "hess_infidelity = ForwardDiff.hessian(test_loss_function, Z_vec)\n"
   ]
  },
  {
   "cell_type": "markdown",
   "metadata": {},
   "source": [
    "## Old Version of Objective"
   ]
  },
  {
   "cell_type": "code",
   "execution_count": 11,
   "metadata": {},
   "outputs": [
    {
     "name": "stdout",
     "output_type": "stream",
     "text": [
      "    constructing UnitarySmoothPulseProblem...\n",
      "\tusing integrator: typeof(UnitaryIntegrator)\n",
      "\tcontrol derivative names: [:da, :dda]\n",
      "\tapplying timesteps_all_equal constraint: Δt\n",
      "    initializing optimizer...\n",
      "        applying constraint: timesteps all equal constraint\n",
      "        applying constraint: initial value of Ũ⃗\n",
      "        applying constraint: initial value of a\n",
      "        applying constraint: final value of a\n",
      "        applying constraint: bounds on a\n",
      "        applying constraint: bounds on da\n",
      "        applying constraint: bounds on dda\n",
      "        applying constraint: bounds on Δt\n",
      "This is Ipopt version 3.14.17, running with linear solver MUMPS 5.8.0.\n",
      "\n",
      "Number of nonzeros in equality constraint Jacobian...:     5502\n",
      "Number of nonzeros in inequality constraint Jacobian.:        0\n",
      "Number of nonzeros in Lagrangian Hessian.............:     2739\n",
      "\n",
      "Total number of variables............................:      738\n",
      "                     variables with only lower bounds:        0\n",
      "                variables with lower and upper bounds:      246\n",
      "                     variables with only upper bounds:        0\n",
      "Total number of equality constraints.................:      637\n",
      "Total number of inequality constraints...............:        0\n",
      "        inequality constraints with only lower bounds:        0\n",
      "   inequality constraints with lower and upper bounds:        0\n",
      "        inequality constraints with only upper bounds:        0\n",
      "\n",
      "iter    objective    inf_pr   inf_du lg(mu)  ||d||  lg(rg) alpha_du alpha_pr  ls\n",
      "   0  6.9597568e-03 1.91e+00 5.66e+00  -1.0 0.00e+00    -  0.00e+00 0.00e+00   0\n",
      "   1  1.1174896e+01 2.27e-01 1.19e+03  -1.0 1.10e+00   2.0 1.03e-02 1.00e+00h  1\n",
      "   2  9.6899295e+01 4.31e-02 5.18e+02  -1.0 1.18e+00   2.4 7.83e-01 1.00e+00h  1\n",
      "   3  9.8192310e+01 6.11e-03 2.70e+02  -1.0 3.06e-01   2.9 1.00e+00 1.00e+00h  1\n",
      "   4  9.7621801e+01 5.41e-04 4.96e+01  -1.0 7.82e-02   2.4 1.00e+00 1.00e+00h  1\n",
      "   5  9.7374289e+01 1.01e-05 8.33e-01  -1.0 8.86e-03   1.9 1.00e+00 1.00e+00f  1\n",
      "   6  9.5824793e+01 9.55e-05 2.08e+00  -1.7 4.20e-02   1.4 1.00e+00 1.00e+00f  1\n",
      "   7  4.5024209e+00 5.33e-02 1.91e+02  -1.7 2.23e+00   0.9 5.97e-01 3.45e-01f  2\n",
      "   8  5.8511029e+01 2.68e-02 6.49e+01  -1.7 3.65e-01   1.4 1.00e+00 1.00e+00h  1\n",
      "   9  5.2153308e+01 5.40e-02 2.12e+02  -1.7 7.10e-01   0.9 1.00e+00 1.00e+00f  1\n",
      "iter    objective    inf_pr   inf_du lg(mu)  ||d||  lg(rg) alpha_du alpha_pr  ls\n",
      "  10  3.2096173e+01 1.32e-02 8.93e+01  -1.7 4.13e-01   1.3 1.00e+00 1.00e+00f  1\n",
      "  11  2.5623504e+01 1.87e-02 9.98e+01  -1.7 2.82e+00   0.8 1.22e-01 1.31e-01f  2\n",
      "  12  1.0250441e+01 3.97e-03 1.27e+02  -1.7 2.50e-01   0.4 1.00e+00 1.00e+00f  1\n",
      "  13  8.3116271e+00 3.77e-04 5.99e+00  -1.7 5.56e-02   1.7 1.00e+00 1.00e+00f  1\n",
      "  14  4.1561486e+00 3.13e-04 2.61e+00  -1.7 6.30e-02   1.2 1.00e+00 1.00e+00f  1\n",
      "  15  5.7384815e-02 5.65e-04 2.76e+00  -1.7 7.42e-02   0.7 1.00e+00 1.00e+00f  1\n",
      "  16  1.4536144e-01 7.68e-05 1.20e+00  -1.7 5.50e-02   0.3 1.00e+00 1.00e+00F  1\n",
      "  17  7.8281482e-02 1.70e-03 1.42e+02  -1.7 1.03e-01  -0.2 1.00e+00 1.00e+00f  1\n",
      "  18  4.8049531e-02 2.16e-03 5.04e-01  -1.7 9.46e+01    -  1.90e-02 2.26e-03f  4\n",
      "  19  5.7272936e-02 9.14e-03 4.81e-01  -1.7 1.98e-01  -0.7 1.00e+00 1.00e+00h  1\n",
      "iter    objective    inf_pr   inf_du lg(mu)  ||d||  lg(rg) alpha_du alpha_pr  ls\n",
      "  20  4.1442688e-01 2.67e-03 1.42e+02  -1.7 1.08e-01  -1.2 1.00e+00 1.00e+00h  1\n",
      "  21  7.9412333e-03 6.09e-03 1.41e+02  -1.7 4.82e+01    -  4.16e-02 5.43e-03f  4\n",
      "  22  3.8826274e-01 6.02e-03 1.53e+00  -1.7 1.53e+00  -0.7 5.26e-01 1.18e-02h  7\n",
      "  23  1.5824692e+00 1.90e-03 1.43e+02  -1.7 1.10e-01  -1.2 1.00e+00 1.00e+00h  1\n",
      "  24  1.9595138e-01 4.72e-03 1.08e+02  -1.7 8.08e-01  -0.8 1.00e+00 2.50e-01f  3\n",
      "  25  8.7857663e-02 4.87e-05 1.41e+02  -1.7 2.91e-02   1.4 1.00e+00 1.00e+00h  1\n",
      "  26  3.7019881e-03 3.75e-07 2.12e-01  -1.7 1.61e-03   1.9 1.00e+00 1.00e+00f  1\n",
      "  27  1.9831345e-03 4.20e-07 8.08e-02  -1.7 1.64e-03   1.4 1.00e+00 1.00e+00h  1\n",
      "  28  1.6909669e-03 2.62e-07 1.41e+02  -2.5 1.42e-03   0.9 1.00e+00 1.00e+00h  1\n",
      "  29  2.0040720e-03 1.17e-07 1.41e+02  -2.5 1.04e-03   0.4 1.00e+00 1.00e+00h  1\n",
      "iter    objective    inf_pr   inf_du lg(mu)  ||d||  lg(rg) alpha_du alpha_pr  ls\n",
      "  30  1.7017341e-03 6.40e-08 8.85e-02  -2.5 7.12e-04   1.8 1.00e+00 1.00e+00h  1\n",
      "  31  1.5745051e-03 3.89e-08 2.48e-02  -2.5 5.61e-04   1.3 1.00e+00 1.00e+00h  1\n",
      "  32  1.5455306e-03 2.49e-08 1.41e+02  -3.8 4.85e-04   0.8 1.00e+00 1.00e+00h  1\n",
      "  33  1.5793878e-03 1.21e-08 1.41e+02  -3.8 3.70e-04   0.3 1.00e+00 1.00e+00h  1\n",
      "  34  1.5450698e-03 9.11e-09 3.13e-02  -3.8 2.87e-04   1.7 1.00e+00 1.00e+00h  1\n",
      "  35  1.5371414e-03 2.83e-09 7.02e-03  -3.8 1.75e-04   1.2 1.00e+00 1.00e+00h  1\n",
      "  36  1.5318839e-03 2.21e-09 1.41e+02  -3.8 1.59e-04   0.7 1.00e+00 1.00e+00h  1\n",
      "  37  1.5358776e-03 1.04e-09 1.41e+02  -3.8 1.01e-04   0.2 1.00e+00 1.00e+00h  1\n",
      "  38  1.5327860e-03 7.00e-10 6.64e-03  -3.8 9.08e-05   1.6 1.00e+00 1.00e+00h  1\n",
      "  39  1.5309910e-03 4.00e-10 1.79e-03  -3.8 5.16e-05   1.1 1.00e+00 1.00e+00h  1\n",
      "iter    objective    inf_pr   inf_du lg(mu)  ||d||  lg(rg) alpha_du alpha_pr  ls\n",
      "  40  1.5302190e-03 5.03e-10 1.41e+02  -3.8 5.02e-05   0.6 1.00e+00 1.00e+00h  1\n",
      "  41  1.5303938e-03 1.11e-09 1.41e+02  -3.8 7.38e-05   0.1 1.00e+00 1.00e+00h  1\n",
      "  42  1.5298810e-03 9.18e-11 2.31e-03  -3.8 3.94e-05   1.5 1.00e+00 1.00e+00h  1\n",
      "  43  1.5296891e-03 6.93e-11 6.01e-04  -3.8 1.80e-05   1.0 1.00e+00 1.00e+00h  1\n",
      "  44  1.5295614e-03 1.22e-10 1.41e+02  -4.0 3.01e-05   0.5 1.00e+00 1.00e+00h  1\n",
      "  45  1.3669569e-03 8.76e-03 1.29e+02  -4.0 3.34e+00    -  5.00e-01 8.64e-02f  4\n",
      "  46  1.3669117e-03 8.76e-03 1.22e+01  -4.0 5.34e-01   0.0 1.00e+00 3.73e-09h 29\n",
      "  47  1.5257690e-03 8.75e-03 1.29e+02  -4.0 4.90e-02   0.4 1.00e+00 9.77e-04h 11\n",
      "  48  1.4661591e-03 8.75e-03 1.22e+01  -4.0 6.10e-01  -0.0 1.00e+00 1.53e-05h 17\n",
      "  49  1.4855595e-03 8.74e-03 1.29e+02  -4.0 4.97e-02   0.4 1.00e+00 9.77e-04h 11\n",
      "iter    objective    inf_pr   inf_du lg(mu)  ||d||  lg(rg) alpha_du alpha_pr  ls\n",
      "  50  1.5428134e-03 8.74e-03 1.22e+01  -4.0 7.23e-01  -0.1 1.00e+00 1.53e-05h 17\n",
      "\n",
      "Number of Iterations....: 50\n",
      "\n",
      "                                   (scaled)                 (unscaled)\n",
      "Objective...............:   1.5428134025216799e-03    1.5428134025216799e-03\n",
      "Dual infeasibility......:   1.2192761983745221e+01    1.2192761983745221e+01\n",
      "Constraint violation....:   8.7407100351619693e-03    8.7407100351619693e-03\n",
      "Variable bound violation:   0.0000000000000000e+00    0.0000000000000000e+00\n",
      "Complementarity.........:   1.4397211329285675e-04    1.4397211329285675e-04\n",
      "Overall NLP error.......:   1.2192761983745221e+01    1.2192761983745221e+01\n",
      "\n",
      "\n",
      "Number of objective function evaluations             = 164\n",
      "Number of objective gradient evaluations             = 51\n",
      "Number of equality constraint evaluations            = 164\n",
      "Number of inequality constraint evaluations          = 0\n",
      "Number of equality constraint Jacobian evaluations   = 51\n",
      "Number of inequality constraint Jacobian evaluations = 0\n",
      "Number of Lagrangian Hessian evaluations             = 50\n",
      "Total seconds in IPOPT                               = 3.127\n",
      "\n",
      "EXIT: Maximum Number of Iterations Exceeded.\n"
     ]
    }
   ],
   "source": [
    "T = 50\n",
    "Δt = 0.2\n",
    "sys = QuantumSystem([PAULIS[:X], PAULIS[:Y]])\n",
    "U_goal = GATES.H\n",
    "Hₑ = 0.01 * PAULIS.X\n",
    "\n",
    "old_prob = UnitarySmoothPulseProblem(sys, U_goal, T, Δt; H_err=Hₑ)\n",
    "\n",
    "solve!(old_prob, max_iter=50)"
   ]
  },
  {
   "cell_type": "markdown",
   "metadata": {},
   "source": [
    "#### Testing"
   ]
  },
  {
   "cell_type": "code",
   "execution_count": 12,
   "metadata": {},
   "outputs": [
    {
     "name": "stdout",
     "output_type": "stream",
     "text": [
      "Fidelity: 0.9784837967700424\n"
     ]
    },
    {
     "data": {
      "text/plain": [
       "(2, 50)"
      ]
     },
     "metadata": {},
     "output_type": "display_data"
    }
   ],
   "source": [
    "Z_vec = vec(old_prob.trajectory)\n",
    "\n",
    "println(\n",
    "    \"Fidelity: \",\n",
    "    unitary_rollout_fidelity(old_prob.trajectory, sys)\n",
    ")\n",
    "\n",
    "old_prob.trajectory.a |> size"
   ]
  },
  {
   "cell_type": "markdown",
   "metadata": {},
   "source": []
  },
  {
   "cell_type": "markdown",
   "metadata": {},
   "source": []
  }
 ],
 "metadata": {
  "kernelspec": {
   "display_name": "Julia 1.11.5",
   "language": "julia",
   "name": "julia-1.11"
  },
  "language_info": {
   "file_extension": ".jl",
   "mimetype": "application/julia",
   "name": "julia",
   "version": "1.11.5"
  }
 },
 "nbformat": 4,
 "nbformat_minor": 2
}
